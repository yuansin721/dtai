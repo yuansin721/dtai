{
 "cells": [
  {
   "cell_type": "code",
   "execution_count": 1,
   "metadata": {},
   "outputs": [
    {
     "name": "stdout",
     "output_type": "stream",
     "text": [
      "0813\n"
     ]
    }
   ],
   "source": [
    "print(\"0813\")"
   ]
  },
  {
   "cell_type": "code",
   "execution_count": 3,
   "metadata": {},
   "outputs": [
    {
     "name": "stdout",
     "output_type": "stream",
     "text": [
      "密碼正確\n"
     ]
    }
   ],
   "source": [
    "密碼=int(input(\"請輸入密碼\"))\n",
    "if 密碼==1234:\n",
    "    print(\"密碼正確\")"
   ]
  },
  {
   "cell_type": "code",
   "execution_count": 7,
   "metadata": {},
   "outputs": [
    {
     "name": "stdout",
     "output_type": "stream",
     "text": [
      "密碼錯誤\n"
     ]
    }
   ],
   "source": [
    "密碼=int(input(\"請輸入密碼\"))\n",
    "if 密碼==1234:\n",
    "    print(\"密碼正確\")\n",
    "else:\n",
    "    print(\"密碼錯誤\")"
   ]
  },
  {
   "cell_type": "code",
   "execution_count": 6,
   "metadata": {},
   "outputs": [
    {
     "name": "stdout",
     "output_type": "stream",
     "text": [
      "你輸入的數字是偶數\n"
     ]
    }
   ],
   "source": [
    "偶數判斷=int(input(\"請輸入一個整數\"))\n",
    "if 偶數判斷%2==0:\n",
    "    print(\"你輸入的數字是偶數\")\n",
    "else:\n",
    "    print(\"你輸入的數字是奇數\")"
   ]
  },
  {
   "cell_type": "code",
   "execution_count": 18,
   "metadata": {},
   "outputs": [
    {
     "name": "stdout",
     "output_type": "stream",
     "text": [
      "出門記得帶傘\n"
     ]
    }
   ],
   "source": [
    "rain=input(\"請輸入今天會不會下雨\")\n",
    "if rain=='Y' or rain=='y':\n",
    "    print(\"出門記得帶傘\")\n"
   ]
  },
  {
   "cell_type": "code",
   "execution_count": 19,
   "metadata": {},
   "outputs": [
    {
     "name": "stdout",
     "output_type": "stream",
     "text": [
      "體溫略高!\n"
     ]
    }
   ],
   "source": [
    "體溫=int(input(\"請輸入體溫\"))\n",
    "if 體溫>=37.5:\n",
    "    print(\"體溫過高!\")\n",
    "elif 體溫>37.4 or 體溫<37:\n",
    "    print(\"體溫略高!\")\n",
    "elif 體溫>34 or 體溫<36.9:\n",
    "    print(\"體溫正常!\")\n",
    "else:\n",
    "    print(\"體溫異常，請重新量測!\")"
   ]
  },
  {
   "cell_type": "code",
   "execution_count": 21,
   "metadata": {},
   "outputs": [
    {
     "name": "stdout",
     "output_type": "stream",
     "text": [
      "A\n"
     ]
    }
   ],
   "source": [
    "成績=int(input(\"請輸入成績\"))\n",
    "if 成績>=90:\n",
    "    print(\"A\")\n",
    "elif 成績>89 or 成績<90:\n",
    "    print(\"B\")\n",
    "elif 成績>79 or 成績<70:\n",
    "    print(\"C\")\n",
    "elif 成績>69 or 成績<60:\n",
    "    print(\"D\")\n",
    "else:\n",
    "    print(\"E\")"
   ]
  },
  {
   "cell_type": "code",
   "execution_count": 35,
   "metadata": {},
   "outputs": [
    {
     "name": "stdout",
     "output_type": "stream",
     "text": [
      "60.0\n"
     ]
    }
   ],
   "source": [
    "total=int(input())\n",
    "if total>=1000:\n",
    "    print(total*0.2)\n",
    "elif total>500 or total<1000:\n",
    "    print(total*0.1)\n",
    "else:\n",
    "    print(total)"
   ]
  },
  {
   "cell_type": "code",
   "execution_count": 31,
   "metadata": {},
   "outputs": [
    {
     "name": "stdout",
     "output_type": "stream",
     "text": [
      "需要立即加油!\n"
     ]
    }
   ],
   "source": [
    "fuel=int(input())\n",
    "if fuel<5:\n",
    "    print(\"需要立即加油!\")\n",
    "elif fuel>5 or fuel<10:\n",
    "    print(\"油量不足,建議加油!\")\n",
    "else:\n",
    "    print(\"油量充足\")"
   ]
  },
  {
   "cell_type": "code",
   "execution_count": 36,
   "metadata": {},
   "outputs": [
    {
     "name": "stdout",
     "output_type": "stream",
     "text": [
      "750\n"
     ]
    }
   ],
   "source": [
    "amount=int(input())\n",
    "if amount>10000:\n",
    "    print(amount+0)\n",
    "elif amount>5000 or amount>10000:\n",
    "    print(amount+50)\n",
    "elif amount>1000 or amount>5000:\n",
    "    print(amount+100)\n",
    "else:\n",
    "    print(amount+150)\n"
   ]
  },
  {
   "cell_type": "code",
   "execution_count": null,
   "metadata": {},
   "outputs": [],
   "source": []
  }
 ],
 "metadata": {
  "kernelspec": {
   "display_name": "Python 3",
   "language": "python",
   "name": "python3"
  },
  "language_info": {
   "codemirror_mode": {
    "name": "ipython",
    "version": 3
   },
   "file_extension": ".py",
   "mimetype": "text/x-python",
   "name": "python",
   "nbconvert_exporter": "python",
   "pygments_lexer": "ipython3",
   "version": "3.9.6"
  }
 },
 "nbformat": 4,
 "nbformat_minor": 2
}
