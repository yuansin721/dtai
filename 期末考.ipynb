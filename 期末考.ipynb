{
 "cells": [
  {
   "cell_type": "code",
   "execution_count": 1,
   "metadata": {},
   "outputs": [
    {
     "name": "stdout",
     "output_type": "stream",
     "text": [
      "2.5\n"
     ]
    }
   ],
   "source": [
    "#1\n",
    "dividend=float(input())\n",
    "divisor=float(input())\n",
    "quotient=dividend%divisor\n",
    "print(quotient)"
   ]
  },
  {
   "cell_type": "code",
   "execution_count": 3,
   "metadata": {},
   "outputs": [
    {
     "name": "stdout",
     "output_type": "stream",
     "text": [
      "153,\n"
     ]
    }
   ],
   "source": [
    "#10\n",
    "def is_a(num):\n",
    "    digits = list(map(int, str(num)))\n",
    "    return sum(digit ** 3 for digit in digits) == num\n",
    "start, end = map(int, input().split())\n",
    "a= [str(num) for num in range(start, end + 1) if is_a(num)]\n",
    "print(\",\".join(a) + \",\")"
   ]
  },
  {
   "cell_type": "code",
   "execution_count": 4,
   "metadata": {},
   "outputs": [
    {
     "name": "stdout",
     "output_type": "stream",
     "text": [
      "t=2.0 b=5.0 h=4.8 area=16.8\n"
     ]
    }
   ],
   "source": [
    "#2\n",
    "top=float(input())\n",
    "bottom=float(input())\n",
    "height=float(input())\n",
    "area=0.5*(top+bottom)*height\n",
    "print(f\"t={top} b={bottom} h={height} area={area}\")"
   ]
  },
  {
   "cell_type": "code",
   "execution_count": 6,
   "metadata": {},
   "outputs": [
    {
     "name": "stdout",
     "output_type": "stream",
     "text": [
      "park time:11h:9m\n",
      "pay:300 money\n"
     ]
    }
   ],
   "source": [
    "#3\n",
    "minutes=int(input())\n",
    "hours=minutes//60\n",
    "a=minutes%60\n",
    "cost=hours*40\n",
    "if a>0:\n",
    "    cost+=20\n",
    "if cost>300:\n",
    "    cost=300\n",
    "print(f\"park time:{hours}h:{a}m\")\n",
    "print(f\"pay:{cost} money\")"
   ]
  },
  {
   "cell_type": "code",
   "execution_count": 7,
   "metadata": {},
   "outputs": [
    {
     "name": "stdout",
     "output_type": "stream",
     "text": [
      "[3, 4, 5, 6, 7]\n"
     ]
    }
   ],
   "source": [
    "#4\n",
    "start, stop, step=map(int, input().split())\n",
    "a=list(range(start, stop, step))\n",
    "print(a)\n"
   ]
  },
  {
   "cell_type": "code",
   "execution_count": 8,
   "metadata": {},
   "outputs": [
    {
     "name": "stdout",
     "output_type": "stream",
     "text": [
      "2000 is leap year\n"
     ]
    }
   ],
   "source": [
    "#5\n",
    "year=int(input())\n",
    "if year%4==0:\n",
    "  if year%100==0:\n",
    "    if year%400==0:\n",
    "      print(f'{year} is leap year')\n",
    "    else:\n",
    "      print(f'{year} is common year')\n",
    "  else:\n",
    "    print(f'{year} is leap year')\n",
    "else:\n",
    "  print(f'{year} is common year')"
   ]
  },
  {
   "cell_type": "code",
   "execution_count": 9,
   "metadata": {},
   "outputs": [
    {
     "name": "stdout",
     "output_type": "stream",
     "text": [
      "120 is error\n"
     ]
    }
   ],
   "source": [
    "#6\n",
    "score=int(input())\n",
    "if score>100 or score<0:\n",
    "    print(f\"{score} is error\")\n",
    "elif score>=90:\n",
    "    print(f\"{score} is A\")\n",
    "elif score>=80:\n",
    "    print(f\"{score} is B\")\n",
    "elif score>=70:\n",
    "    print(f\"{score} is C\")\n",
    "elif score>=60:\n",
    "    print(f\"{score} is D\")\n",
    "else:\n",
    "    print(f\"{score} is E\")"
   ]
  },
  {
   "cell_type": "code",
   "execution_count": 10,
   "metadata": {},
   "outputs": [
    {
     "name": "stdout",
     "output_type": "stream",
     "text": [
      "0,5,10,15,20,25,30,35,40,45,50,55,60,65,70,75,80,85,90,95,"
     ]
    }
   ],
   "source": [
    "#7\n",
    "start, stop, step = map(int, input().split())\n",
    "for i in range(start, stop, step):\n",
    "    print(i, end=\",\")"
   ]
  },
  {
   "cell_type": "code",
   "execution_count": 11,
   "metadata": {},
   "outputs": [
    {
     "name": "stdout",
     "output_type": "stream",
     "text": [
      "*\n",
      "**\n",
      "***\n",
      "****\n",
      "*****\n"
     ]
    }
   ],
   "source": [
    "#8\n",
    "n=int(input())\n",
    "for i in range(1,n+1):\n",
    "  for j in range(1,i+1):\n",
    "    print(\"*\",end=\"\")\n",
    "  print()"
   ]
  },
  {
   "cell_type": "code",
   "execution_count": 15,
   "metadata": {},
   "outputs": [
    {
     "name": "stdout",
     "output_type": "stream",
     "text": [
      "5*1=5 5*2=10 5*3=15 5*4=20 5*5=25 5*6=30 5*7=35 5*8=40 5*9=45 \n",
      "6*1=6 6*2=12 6*3=18 6*4=24 6*5=30 6*6=36 6*7=42 6*8=48 6*9=54 \n",
      "7*1=7 7*2=14 7*3=21 7*4=28 7*5=35 7*6=42 7*7=49 7*8=56 7*9=63 \n",
      "8*1=8 8*2=16 8*3=24 8*4=32 8*5=40 8*6=48 8*7=56 8*8=64 8*9=72 \n",
      "9*1=9 9*2=18 9*3=27 9*4=36 9*5=45 9*6=54 9*7=63 9*8=72 9*9=81 \n"
     ]
    }
   ],
   "source": [
    "#9\n",
    "n=int(input())\n",
    "for i in range(n,10):\n",
    "  for j in range(1,10):\n",
    "      print(\"%d*%d=%d\"%(i,j,i*j),end=\" \")\n",
    "  print()"
   ]
  }
 ],
 "metadata": {
  "kernelspec": {
   "display_name": "Python 3",
   "language": "python",
   "name": "python3"
  },
  "language_info": {
   "codemirror_mode": {
    "name": "ipython",
    "version": 3
   },
   "file_extension": ".py",
   "mimetype": "text/x-python",
   "name": "python",
   "nbconvert_exporter": "python",
   "pygments_lexer": "ipython3",
   "version": "3.9.6"
  }
 },
 "nbformat": 4,
 "nbformat_minor": 2
}
